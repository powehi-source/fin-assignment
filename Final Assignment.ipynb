{
 "cells": [
  {
   "cell_type": "markdown",
   "id": "fa47055d",
   "metadata": {},
   "source": [
    "<p style=\"text-align:center\">\n",
    "    <a href=\"https://skills.network/?utm_medium=Exinfluencer&utm_source=Exinfluencer&utm_content=000026UJ&utm_term=10006555&utm_id=NA-SkillsNetwork-Channel-SkillsNetworkCoursesIBMDeveloperSkillsNetworkPY0220ENSkillsNetwork900-2022-01-01\" target=\"_blank\">\n",
    "    <img src=\"https://cf-courses-data.s3.us.cloud-object-storage.appdomain.cloud/assets/logos/SN_web_lightmode.png\" width=\"200\" alt=\"Skills Network Logo\"  />\n",
    "    </a>\n",
    "</p>\n"
   ]
  },
  {
   "cell_type": "markdown",
   "id": "a3297b8f-d940-495e-b617-311976f3374a",
   "metadata": {},
   "source": [
    "<h1>Extracting and Visualizing Stock Data</h1>\n",
    "<h2>Description</h2>\n"
   ]
  },
  {
   "cell_type": "markdown",
   "id": "a63757ca-0a1f-4a61-bd6c-3c25f234e7fb",
   "metadata": {},
   "source": [
    "Extracting essential data from a dataset and displaying it is a necessary part of data science; therefore individuals can make correct decisions based on the data. In this assignment, you will extract some stock data, you will then display this data in a graph.\n"
   ]
  },
  {
   "cell_type": "markdown",
   "id": "11a783a7-56d2-4e99-97cf-ea53bfc8aa81",
   "metadata": {},
   "source": [
    "<h2>Table of Contents</h2>\n",
    "<div class=\"alert alert-block alert-info\" style=\"margin-top: 20px\">\n",
    "    <ul>\n",
    "        <li>Define a Function that Makes a Graph</li>\n",
    "        <li>Question 1: Use yfinance to Extract Stock Data</li>\n",
    "        <li>Question 2: Use Webscraping to Extract Tesla Revenue Data</li>\n",
    "        <li>Question 3: Use yfinance to Extract Stock Data</li>\n",
    "        <li>Question 4: Use Webscraping to Extract GME Revenue Data</li>\n",
    "        <li>Question 5: Plot Tesla Stock Graph</li>\n",
    "        <li>Question 6: Plot GameStop Stock Graph</li>\n",
    "    </ul>\n",
    "<p>\n",
    "    Estimated Time Needed: <strong>30 min</strong></p>\n",
    "</div>\n",
    "\n",
    "<hr>\n"
   ]
  },
  {
   "cell_type": "code",
   "execution_count": 49,
   "id": "be6e0c97-5ff6-4c62-8123-c41697152060",
   "metadata": {},
   "outputs": [
    {
     "name": "stdout",
     "output_type": "stream",
     "text": [
      "Collecting yfinance==0.1.67\n",
      "  Downloading yfinance-0.1.67-py2.py3-none-any.whl (25 kB)\n",
      "Requirement already satisfied: pandas>=0.24 in /home/jupyterlab/conda/envs/python/lib/python3.7/site-packages (from yfinance==0.1.67) (1.3.5)\n",
      "Requirement already satisfied: requests>=2.20 in /home/jupyterlab/conda/envs/python/lib/python3.7/site-packages (from yfinance==0.1.67) (2.28.1)\n",
      "Requirement already satisfied: lxml>=4.5.1 in /home/jupyterlab/conda/envs/python/lib/python3.7/site-packages (from yfinance==0.1.67) (4.9.1)\n",
      "Requirement already satisfied: multitasking>=0.0.7 in /home/jupyterlab/conda/envs/python/lib/python3.7/site-packages (from yfinance==0.1.67) (0.0.11)\n",
      "Requirement already satisfied: numpy>=1.15 in /home/jupyterlab/conda/envs/python/lib/python3.7/site-packages (from yfinance==0.1.67) (1.21.6)\n",
      "Requirement already satisfied: python-dateutil>=2.7.3 in /home/jupyterlab/conda/envs/python/lib/python3.7/site-packages (from pandas>=0.24->yfinance==0.1.67) (2.8.2)\n",
      "Requirement already satisfied: pytz>=2017.3 in /home/jupyterlab/conda/envs/python/lib/python3.7/site-packages (from pandas>=0.24->yfinance==0.1.67) (2022.6)\n",
      "Requirement already satisfied: charset-normalizer<3,>=2 in /home/jupyterlab/conda/envs/python/lib/python3.7/site-packages (from requests>=2.20->yfinance==0.1.67) (2.1.1)\n",
      "Requirement already satisfied: certifi>=2017.4.17 in /home/jupyterlab/conda/envs/python/lib/python3.7/site-packages (from requests>=2.20->yfinance==0.1.67) (2022.9.24)\n",
      "Requirement already satisfied: urllib3<1.27,>=1.21.1 in /home/jupyterlab/conda/envs/python/lib/python3.7/site-packages (from requests>=2.20->yfinance==0.1.67) (1.26.13)\n",
      "Requirement already satisfied: idna<4,>=2.5 in /home/jupyterlab/conda/envs/python/lib/python3.7/site-packages (from requests>=2.20->yfinance==0.1.67) (3.4)\n",
      "Requirement already satisfied: six>=1.5 in /home/jupyterlab/conda/envs/python/lib/python3.7/site-packages (from python-dateutil>=2.7.3->pandas>=0.24->yfinance==0.1.67) (1.16.0)\n",
      "Installing collected packages: yfinance\n",
      "  Attempting uninstall: yfinance\n",
      "    Found existing installation: yfinance 0.2.17\n",
      "    Uninstalling yfinance-0.2.17:\n",
      "      Successfully uninstalled yfinance-0.2.17\n",
      "Successfully installed yfinance-0.1.67\n",
      "\n",
      "                  __    __    __    __\n",
      "                 /  \\  /  \\  /  \\  /  \\\n",
      "                /    \\/    \\/    \\/    \\\n",
      "███████████████/  /██/  /██/  /██/  /████████████████████████\n",
      "              /  / \\   / \\   / \\   / \\  \\____\n",
      "             /  /   \\_/   \\_/   \\_/   \\    o \\__,\n",
      "            / _/                       \\_____/  `\n",
      "            |/\n",
      "        ███╗   ███╗ █████╗ ███╗   ███╗██████╗  █████╗\n",
      "        ████╗ ████║██╔══██╗████╗ ████║██╔══██╗██╔══██╗\n",
      "        ██╔████╔██║███████║██╔████╔██║██████╔╝███████║\n",
      "        ██║╚██╔╝██║██╔══██║██║╚██╔╝██║██╔══██╗██╔══██║\n",
      "        ██║ ╚═╝ ██║██║  ██║██║ ╚═╝ ██║██████╔╝██║  ██║\n",
      "        ╚═╝     ╚═╝╚═╝  ╚═╝╚═╝     ╚═╝╚═════╝ ╚═╝  ╚═╝\n",
      "\n",
      "        mamba (0.15.3) supported by @QuantStack\n",
      "\n",
      "        GitHub:  https://github.com/mamba-org/mamba\n",
      "        Twitter: https://twitter.com/QuantStack\n",
      "\n",
      "█████████████████████████████████████████████████████████████\n",
      "\n",
      "\n",
      "Looking for: ['bs4==4.10.0']\n",
      "\n",
      "pkgs/r/noarch            [<=>                 ] (00m:00s) \n",
      "pkgs/r/noarch            [=>              ] (00m:00s) 148 KB / ?? (489.39 KB/s)\n",
      "pkgs/r/noarch            [=>              ] (00m:00s) 148 KB / ?? (489.39 KB/s)\n",
      "pkgs/main/linux-64       [<=>                 ] (00m:00s) \n",
      "pkgs/r/noarch            [=>              ] (00m:00s) 148 KB / ?? (489.39 KB/s)\n",
      "pkgs/main/linux-64       [=>              ] (00m:00s) 156 KB / ?? (512.01 KB/s)\n",
      "pkgs/r/noarch            [=>              ] (00m:00s) 148 KB / ?? (489.39 KB/s)\n",
      "pkgs/main/linux-64       [=>              ] (00m:00s) 156 KB / ?? (512.01 KB/s)\n",
      "pkgs/main/noarch         [<=>                 ] (00m:00s) \n",
      "pkgs/r/noarch            [=>              ] (00m:00s) 148 KB / ?? (489.39 KB/s)\n",
      "pkgs/main/linux-64       [=>              ] (00m:00s) 156 KB / ?? (512.01 KB/s)\n",
      "pkgs/main/noarch         [=>              ] (00m:00s) 156 KB / ?? (509.99 KB/s)\n",
      "pkgs/r/noarch            [=>              ] (00m:00s) 148 KB / ?? (489.39 KB/s)\n",
      "pkgs/main/linux-64       [=>              ] (00m:00s) 156 KB / ?? (512.01 KB/s)\n",
      "pkgs/main/noarch         [=>              ] (00m:00s) 156 KB / ?? (509.99 KB/s)\n",
      "pkgs/r/linux-64          [<=>                 ] (00m:00s) \n",
      "pkgs/r/noarch            [=>              ] (00m:00s) 148 KB / ?? (489.39 KB/s)\n",
      "pkgs/main/linux-64       [=>              ] (00m:00s) 156 KB / ?? (512.01 KB/s)\n",
      "pkgs/main/noarch         [=>              ] (00m:00s) 156 KB / ?? (509.99 KB/s)\n",
      "pkgs/r/linux-64          [=>              ] (00m:00s) 156 KB / ?? (508.34 KB/s)\n",
      "pkgs/r/noarch            [=>              ] (00m:00s) 148 KB / ?? (489.39 KB/s)\n",
      "pkgs/main/linux-64       [=>              ] (00m:00s) 156 KB / ?? (512.01 KB/s)\n",
      "pkgs/main/noarch         [<=>                 ] (00m:00s) Finalizing...\n",
      "pkgs/r/linux-64          [=>              ] (00m:00s) 156 KB / ?? (508.34 KB/s)\n",
      "pkgs/r/noarch            [=>              ] (00m:00s) 148 KB / ?? (489.39 KB/s)\n",
      "pkgs/main/linux-64       [=>              ] (00m:00s) 156 KB / ?? (512.01 KB/s)\n",
      "pkgs/main/noarch         [<=>                 ] (00m:00s) Done\n",
      "pkgs/r/linux-64          [=>              ] (00m:00s) 156 KB / ?? (508.34 KB/s)\n",
      "pkgs/main/noarch         [====================] (00m:00s) Done\n",
      "pkgs/r/noarch            [=>              ] (00m:00s) 148 KB / ?? (489.39 KB/s)\n",
      "pkgs/main/linux-64       [=>              ] (00m:00s) 156 KB / ?? (512.01 KB/s)\n",
      "pkgs/r/linux-64          [=>              ] (00m:00s) 156 KB / ?? (508.34 KB/s)\n",
      "pkgs/r/noarch            [<=>             ] (00m:00s) 148 KB / ?? (489.39 KB/s)\n",
      "pkgs/main/linux-64       [=>              ] (00m:00s) 156 KB / ?? (512.01 KB/s)\n",
      "pkgs/r/linux-64          [=>              ] (00m:00s) 156 KB / ?? (508.34 KB/s)\n",
      "pkgs/r/noarch            [<=>               ] (00m:00s) 992 KB / ?? (2.14 MB/s)\n",
      "pkgs/main/linux-64       [=>              ] (00m:00s) 156 KB / ?? (512.01 KB/s)\n",
      "pkgs/r/linux-64          [=>              ] (00m:00s) 156 KB / ?? (508.34 KB/s)\n",
      "pkgs/r/noarch            [<=>               ] (00m:00s) 992 KB / ?? (2.14 MB/s)\n",
      "pkgs/main/linux-64       [<=>             ] (00m:00s) 156 KB / ?? (512.01 KB/s)\n",
      "pkgs/r/linux-64          [=>              ] (00m:00s) 156 KB / ?? (508.34 KB/s)\n",
      "pkgs/r/noarch            [<=>               ] (00m:00s) 992 KB / ?? (2.14 MB/s)\n",
      "pkgs/main/linux-64       [<=>               ] (00m:00s) 880 KB / ?? (1.89 MB/s)\n",
      "pkgs/r/linux-64          [=>              ] (00m:00s) 156 KB / ?? (508.34 KB/s)\n",
      "pkgs/r/noarch            [<=>               ] (00m:00s) 992 KB / ?? (2.14 MB/s)\n",
      "pkgs/main/linux-64       [<=>               ] (00m:00s) 880 KB / ?? (1.89 MB/s)\n",
      "pkgs/r/linux-64          [<=>             ] (00m:00s) 156 KB / ?? (508.34 KB/s)\n",
      "pkgs/r/noarch            [<=>               ] (00m:00s) 992 KB / ?? (2.14 MB/s)\n",
      "pkgs/main/linux-64       [<=>               ] (00m:00s) 880 KB / ?? (1.89 MB/s)\n",
      "pkgs/r/linux-64          [<=>               ] (00m:00s) 916 KB / ?? (1.92 MB/s)\n",
      "pkgs/r/noarch            [ <=>                ] (00m:00s) Finalizing...\n",
      "pkgs/main/linux-64       [<=>               ] (00m:00s) 880 KB / ?? (1.89 MB/s)\n",
      "pkgs/r/linux-64          [<=>               ] (00m:00s) 916 KB / ?? (1.92 MB/s)\n",
      "pkgs/r/noarch            [ <=>                ] (00m:00s) Done\n",
      "pkgs/main/linux-64       [<=>               ] (00m:00s) 880 KB / ?? (1.89 MB/s)\n",
      "pkgs/r/linux-64          [<=>               ] (00m:00s) 916 KB / ?? (1.92 MB/s)\n",
      "pkgs/r/noarch            [====================] (00m:00s) Done\n",
      "pkgs/main/linux-64       [<=>               ] (00m:00s) 880 KB / ?? (1.89 MB/s)\n",
      "pkgs/r/linux-64          [<=>               ] (00m:00s) 916 KB / ?? (1.92 MB/s)\n",
      "pkgs/main/linux-64       [<=>               ] (00m:00s) 880 KB / ?? (1.89 MB/s)\n",
      "pkgs/r/linux-64          [ <=>                ] (00m:00s) Finalizing...\n",
      "pkgs/main/linux-64       [<=>               ] (00m:00s) 880 KB / ?? (1.89 MB/s)\n",
      "pkgs/r/linux-64          [ <=>                ] (00m:00s) Done\n",
      "pkgs/r/linux-64          [====================] (00m:00s) Done\n",
      "pkgs/main/linux-64       [<=>               ] (00m:00s) 880 KB / ?? (1.89 MB/s)\n",
      "pkgs/main/linux-64       [ <=>              ] (00m:00s) 880 KB / ?? (1.89 MB/s)\n",
      "pkgs/main/linux-64       [  <=>               ] (00m:00s) 2 MB / ?? (3.23 MB/s)\n",
      "pkgs/main/linux-64       [   <=>              ] (00m:00s) 2 MB / ?? (3.23 MB/s)\n",
      "pkgs/main/linux-64       [   <=>              ] (00m:00s) 3 MB / ?? (4.03 MB/s)\n",
      "pkgs/main/linux-64       [    <=>             ] (00m:00s) 3 MB / ?? (4.03 MB/s)\n",
      "pkgs/main/linux-64       [    <=>             ] (00m:00s) 4 MB / ?? (4.27 MB/s)\n",
      "pkgs/main/linux-64       [     <=>            ] (00m:00s) 4 MB / ?? (4.27 MB/s)\n",
      "pkgs/main/linux-64       [     <=>            ] (00m:00s) 5 MB / ?? (4.37 MB/s)\n",
      "pkgs/main/linux-64       [     <=>            ] (00m:00s) Finalizing...\n",
      "pkgs/main/linux-64       [     <=>            ] (00m:01s) Done\n",
      "pkgs/main/linux-64       [====================] (00m:01s) Done\n",
      "\n",
      "Pinned packages:\n",
      "  - python 3.7.*\n",
      "\n",
      "\n",
      "Transaction\n",
      "\n",
      "  Prefix: /home/jupyterlab/conda/envs/python\n",
      "\n",
      "  Updating specs:\n",
      "\n",
      "   - bs4==4.10.0\n",
      "   - ca-certificates\n",
      "   - certifi\n",
      "   - openssl\n",
      "\n",
      "\n",
      "  Package               Version  Build           Channel                  Size\n",
      "────────────────────────────────────────────────────────────────────────────────\n",
      "  Install:\n",
      "────────────────────────────────────────────────────────────────────────────────\n",
      "\n",
      "\u001b[32m  + bs4            \u001b[00m      4.10.0  hd3eb1b0_0      pkgs/main/noarch        10 KB\n",
      "\n",
      "  Upgrade:\n",
      "────────────────────────────────────────────────────────────────────────────────\n",
      "\n",
      "\u001b[31m  - ca-certificates\u001b[00m   2022.9.24  ha878542_0      installed                    \n",
      "\u001b[32m  + ca-certificates\u001b[00m  2023.01.10  h06a4308_0      pkgs/main/linux-64     120 KB\n",
      "\u001b[31m  - certifi        \u001b[00m   2022.9.24  pyhd8ed1ab_0    installed                    \n",
      "\u001b[32m  + certifi        \u001b[00m   2022.12.7  py37h06a4308_0  pkgs/main/linux-64     150 KB\n",
      "\u001b[31m  - openssl        \u001b[00m      1.1.1s  h0b41bf4_1      installed                    \n",
      "\u001b[32m  + openssl        \u001b[00m      1.1.1t  h7f8727e_0      pkgs/main/linux-64       4 MB\n",
      "\n",
      "  Downgrade:\n",
      "────────────────────────────────────────────────────────────────────────────────\n",
      "\n",
      "\u001b[31m  - beautifulsoup4 \u001b[00m      4.11.1  pyha770c72_0    installed                    \n",
      "\u001b[32m  + beautifulsoup4 \u001b[00m      4.10.0  pyh06a4308_0    pkgs/main/noarch        85 KB\n",
      "\n",
      "  Summary:\n",
      "\n",
      "  Install: 1 packages\n",
      "  Upgrade: 3 packages\n",
      "  Downgrade: 1 packages\n",
      "\n",
      "  Total download: 4 MB\n",
      "\n",
      "────────────────────────────────────────────────────────────────────────────────\n",
      "\n",
      "Downloading  [>                                        ] (00m:00s)   38.94 KB/s\n",
      "Extracting   [>                                                      ] (--:--) \n",
      "\u001b[2A\u001b[0KFinished bs4                                  (00m:00s)              10 KB     39 KB/s\n",
      "Downloading  [>                                        ] (00m:00s)   38.94 KB/s\n",
      "Extracting   [>                                                      ] (--:--) \n",
      "Downloading  [>                                        ] (00m:00s)   38.94 KB/s\n",
      "Extracting   [>                                                      ] (--:--) \n",
      "Downloading  [>                                        ] (00m:00s)   38.94 KB/s\n",
      "Extracting   [>                                                      ] (--:--) \n",
      "Downloading  [>                                        ] (00m:00s)  356.72 KB/s\n",
      "Extracting   [>                                                      ] (--:--) \n",
      "\u001b[2A\u001b[0KFinished beautifulsoup4                       (00m:00s)              85 KB    319 KB/s\n",
      "Downloading  [>                                        ] (00m:00s)  356.72 KB/s\n",
      "Extracting   [>                                                      ] (--:--) \n",
      "Downloading  [>                                        ] (00m:00s)  356.72 KB/s\n",
      "Extracting   [>                                                      ] (--:--) \n",
      "Downloading  [==>                                      ] (00m:00s)  803.06 KB/s\n",
      "Extracting   [>                                                      ] (--:--) \n",
      "Downloading  [===>                                     ] (00m:00s)    1.29 MB/s\n",
      "Extracting   [>                                                      ] (--:--) \n",
      "\u001b[2A\u001b[0KFinished certifi                              (00m:00s)             150 KB    543 KB/s\n",
      "Downloading  [===>                                     ] (00m:00s)    1.29 MB/s\n",
      "Extracting   [>                                                      ] (--:--) \n",
      "Downloading  [===>                                     ] (00m:00s)    1.29 MB/s\n",
      "Extracting   [>                                                      ] (--:--) \n",
      "\u001b[2A\u001b[0KFinished ca-certificates                      (00m:00s)             120 KB    448 KB/s\n",
      "Downloading  [===>                                     ] (00m:00s)    1.29 MB/s\n",
      "Extracting   [>                                                      ] (--:--) \n",
      "Downloading  [===>                                     ] (00m:00s)    1.29 MB/s\n",
      "Extracting   [>                                                      ] (--:--) \n",
      "Downloading  [===>                                     ] (00m:00s)    1.29 MB/s\n",
      "Extracting   [========>                                ] (00m:00s)        1 / 5\n",
      "Downloading  [===>                                     ] (00m:00s)    1.29 MB/s\n",
      "Extracting   [========>                                ] (00m:00s)        1 / 5\n",
      "Downloading  [=========================>               ] (00m:00s)    8.50 MB/s\n",
      "Extracting   [========>                                ] (00m:00s)        1 / 5\n",
      "Downloading  [=========================>               ] (00m:00s)    8.50 MB/s\n",
      "Extracting   [========>                                ] (00m:00s)        1 / 5\n",
      "Downloading  [=========================================] (00m:00s)   12.71 MB/s\n",
      "Extracting   [========>                                ] (00m:00s)        1 / 5\n",
      "Downloading  [=========================================] (00m:00s)   12.71 MB/s\n",
      "Extracting   [================>                        ] (00m:00s)        2 / 5\n",
      "Downloading  [=========================================] (00m:00s)   12.71 MB/s\n",
      "Extracting   [================>                        ] (00m:00s)        2 / 5\n",
      "\u001b[2A\u001b[0KFinished openssl                              (00m:00s)               4 MB     12 MB/s\n",
      "Downloading  [=========================================] (00m:00s)   12.71 MB/s\n",
      "Extracting   [================>                        ] (00m:00s)        2 / 5\n",
      "Downloading  [=========================================] (00m:00s)   12.71 MB/s\n",
      "Extracting   [========================>                ] (00m:00s)        3 / 5\n",
      "Downloading  [=========================================] (00m:00s)   12.71 MB/s\n",
      "Extracting   [========================>                ] (00m:00s)        3 / 5\n",
      "Downloading  [=========================================] (00m:00s)   12.71 MB/s\n",
      "Extracting   [========================>                ] (00m:00s)        3 / 5\n",
      "Downloading  [=========================================] (00m:00s)   12.71 MB/s\n",
      "Extracting   [================================>        ] (00m:00s)        4 / 5\n",
      "Downloading  [=========================================] (00m:00s)   12.71 MB/s\n",
      "Extracting   [================================>        ] (00m:00s)        4 / 5\n",
      "Downloading  [=========================================] (00m:00s)   12.71 MB/s\n",
      "Extracting   [=========================================] (00m:00s)        5 / 5\n",
      "Preparing transaction: done\n",
      "Verifying transaction: done\n",
      "Executing transaction: done\n",
      "Collecting nbformat==4.2.0\n",
      "  Downloading nbformat-4.2.0-py2.py3-none-any.whl (153 kB)\n",
      "\u001b[2K     \u001b[90m━━━━━━━━━━━━━━━━━━━━━━━━━━━━━━━━━━━━━━\u001b[0m \u001b[32m153.3/153.3 kB\u001b[0m \u001b[31m16.4 MB/s\u001b[0m eta \u001b[36m0:00:00\u001b[0m\n",
      "\u001b[?25hRequirement already satisfied: jupyter-core in /home/jupyterlab/conda/envs/python/lib/python3.7/site-packages (from nbformat==4.2.0) (4.12.0)\n",
      "Requirement already satisfied: traitlets>=4.1 in /home/jupyterlab/conda/envs/python/lib/python3.7/site-packages (from nbformat==4.2.0) (5.6.0)\n",
      "Requirement already satisfied: jsonschema!=2.5.0,>=2.4 in /home/jupyterlab/conda/envs/python/lib/python3.7/site-packages (from nbformat==4.2.0) (4.17.3)\n",
      "Requirement already satisfied: ipython-genutils in /home/jupyterlab/conda/envs/python/lib/python3.7/site-packages (from nbformat==4.2.0) (0.2.0)\n",
      "Requirement already satisfied: importlib-resources>=1.4.0 in /home/jupyterlab/conda/envs/python/lib/python3.7/site-packages (from jsonschema!=2.5.0,>=2.4->nbformat==4.2.0) (5.10.1)\n",
      "Requirement already satisfied: attrs>=17.4.0 in /home/jupyterlab/conda/envs/python/lib/python3.7/site-packages (from jsonschema!=2.5.0,>=2.4->nbformat==4.2.0) (22.1.0)\n",
      "Requirement already satisfied: pkgutil-resolve-name>=1.3.10 in /home/jupyterlab/conda/envs/python/lib/python3.7/site-packages (from jsonschema!=2.5.0,>=2.4->nbformat==4.2.0) (1.3.10)\n",
      "Requirement already satisfied: typing-extensions in /home/jupyterlab/conda/envs/python/lib/python3.7/site-packages (from jsonschema!=2.5.0,>=2.4->nbformat==4.2.0) (4.4.0)\n",
      "Requirement already satisfied: importlib-metadata in /home/jupyterlab/conda/envs/python/lib/python3.7/site-packages (from jsonschema!=2.5.0,>=2.4->nbformat==4.2.0) (4.11.4)\n",
      "Requirement already satisfied: pyrsistent!=0.17.0,!=0.17.1,!=0.17.2,>=0.14.0 in /home/jupyterlab/conda/envs/python/lib/python3.7/site-packages (from jsonschema!=2.5.0,>=2.4->nbformat==4.2.0) (0.19.2)\n",
      "Requirement already satisfied: zipp>=3.1.0 in /home/jupyterlab/conda/envs/python/lib/python3.7/site-packages (from importlib-resources>=1.4.0->jsonschema!=2.5.0,>=2.4->nbformat==4.2.0) (3.11.0)\n",
      "Installing collected packages: nbformat\n",
      "  Attempting uninstall: nbformat\n",
      "    Found existing installation: nbformat 5.7.0\n",
      "    Uninstalling nbformat-5.7.0:\n",
      "      Successfully uninstalled nbformat-5.7.0\n",
      "\u001b[31mERROR: pip's dependency resolver does not currently take into account all the packages that are installed. This behaviour is the source of the following dependency conflicts.\n",
      "nbconvert 7.2.6 requires nbformat>=5.1, but you have nbformat 4.2.0 which is incompatible.\n",
      "nbclient 0.7.2 requires nbformat>=5.1, but you have nbformat 4.2.0 which is incompatible.\n",
      "jupyter-server 1.23.3 requires nbformat>=5.2.0, but you have nbformat 4.2.0 which is incompatible.\u001b[0m\u001b[31m\n",
      "\u001b[0mSuccessfully installed nbformat-4.2.0\n"
     ]
    }
   ],
   "source": [
    "!pip install yfinance==0.1.67\n",
    "!mamba install bs4==4.10.0 -y\n",
    "!pip install nbformat==4.2.0"
   ]
  },
  {
   "cell_type": "code",
   "execution_count": 50,
   "id": "9860fee0-de38-4cd2-936b-7479745b0f4e",
   "metadata": {},
   "outputs": [],
   "source": [
    "import yfinance as yf\n",
    "import pandas as pd\n",
    "import requests\n",
    "from bs4 import BeautifulSoup\n",
    "import plotly.graph_objects as go\n",
    "from plotly.subplots import make_subplots"
   ]
  },
  {
   "cell_type": "markdown",
   "id": "c2d6a13c-efae-4024-85e5-4edda1895c92",
   "metadata": {},
   "source": [
    "## Define Graphing Function\n"
   ]
  },
  {
   "cell_type": "markdown",
   "id": "4c0e1b5f-6137-4d71-b130-5aabd2cfb7f5",
   "metadata": {},
   "source": [
    "In this section, we define the function `make_graph`. You don't have to know how the function works, you should only care about the inputs. It takes a dataframe with stock data (dataframe must contain Date and Close columns), a dataframe with revenue data (dataframe must contain Date and Revenue columns), and the name of the stock.\n"
   ]
  },
  {
   "cell_type": "code",
   "execution_count": 51,
   "id": "0dcaaa5e-e5ed-4337-beb4-134b5da043d6",
   "metadata": {},
   "outputs": [],
   "source": [
    "def make_graph(stock_data, revenue_data, stock):\n",
    "    fig = make_subplots(rows=2, cols=1, shared_xaxes=True, subplot_titles=(\"Historical Share Price\", \"Historical Revenue\"), vertical_spacing = .3)\n",
    "    stock_data_specific = stock_data[stock_data.Date <= '2021--06-14']\n",
    "    revenue_data_specific = revenue_data[revenue_data.Date <= '2021-04-30']\n",
    "    fig.add_trace(go.Scatter(x=pd.to_datetime(stock_data_specific.Date, infer_datetime_format=True), y=stock_data_specific.Close.astype(\"float\"), name=\"Share Price\"), row=1, col=1)\n",
    "    fig.add_trace(go.Scatter(x=pd.to_datetime(revenue_data_specific.Date, infer_datetime_format=True), y=revenue_data_specific.Revenue.astype(\"float\"), name=\"Revenue\"), row=2, col=1)\n",
    "    fig.update_xaxes(title_text=\"Date\", row=1, col=1)\n",
    "    fig.update_xaxes(title_text=\"Date\", row=2, col=1)\n",
    "    fig.update_yaxes(title_text=\"Price ($US)\", row=1, col=1)\n",
    "    fig.update_yaxes(title_text=\"Revenue ($US Millions)\", row=2, col=1)\n",
    "    fig.update_layout(showlegend=False,\n",
    "    height=900,\n",
    "    title=stock,\n",
    "    xaxis_rangeslider_visible=True)\n",
    "    fig.show()"
   ]
  },
  {
   "cell_type": "markdown",
   "id": "fbaa3d01-1420-4087-9d79-3a56522c1610",
   "metadata": {},
   "source": [
    "## Question 1: Use yfinance to Extract Stock Data\n"
   ]
  },
  {
   "cell_type": "markdown",
   "id": "d574fd10-1aab-4e46-a924-53d028709d24",
   "metadata": {},
   "source": [
    "Using the `Ticker` function enter the ticker symbol of the stock we want to extract data on to create a ticker object. The stock is Tesla and its ticker symbol is `TSLA`.\n"
   ]
  },
  {
   "cell_type": "code",
   "execution_count": 52,
   "id": "408e0d71-3e76-4731-8cb0-60e7efd7c9ae",
   "metadata": {},
   "outputs": [
    {
     "name": "stdout",
     "output_type": "stream",
     "text": [
      "{'address1': '1 Tesla Road', 'city': 'Austin', 'state': 'TX', 'zip': '78725', 'country': 'United States', 'phone': '512 516 8177', 'website': 'https://www.tesla.com', 'industry': 'Auto Manufacturers', 'sector': 'Consumer Cyclical', 'longBusinessSummary': 'Tesla, Inc. designs, develops, manufactures, leases, and sells electric vehicles, and energy generation and storage systems in the United States, China, and internationally. It operates in two segments, Automotive, and Energy Generation and Storage. The Automotive segment offers electric vehicles, as well as sells automotive regulatory credits; and non-warranty after-sales vehicle, used vehicles, retail merchandise, and vehicle insurance services. This segment also provides sedans and sport utility vehicles through direct and used vehicle sales, a network of Tesla Superchargers, and in-app upgrades; purchase financing and leasing services; services for electric vehicles through its company-owned service locations and Tesla mobile service technicians; and vehicle limited warranties and extended service plans. The Energy Generation and Storage segment engages in the design, manufacture, installation, sale, and leasing of solar energy generation and energy storage products, and related services to residential, commercial, and industrial customers and utilities through its website, stores, and galleries, as well as through a network of channel partners; and provision of service and repairs to its energy product customers, including under warranty, as well as various financing options to its solar customers. The company was formerly known as Tesla Motors, Inc. and changed its name to Tesla, Inc. in February 2017. Tesla, Inc. was incorporated in 2003 and is headquartered in Austin, Texas.', 'fullTimeEmployees': 127855, 'companyOfficers': [{'maxAge': 1, 'name': 'Mr. Elon R. Musk', 'age': 50, 'title': 'Technoking of Tesla, CEO & Director', 'yearBorn': 1972, 'fiscalYear': 2021, 'totalPay': 0, 'exercisedValue': 23452909568, 'unexercisedValue': 58325164032}, {'maxAge': 1, 'name': 'Mr. Zachary John Planell Kirkhorn', 'age': 37, 'title': 'Master of Coin & CFO', 'yearBorn': 1985, 'fiscalYear': 2021, 'totalPay': 301154, 'exercisedValue': 3204672, 'unexercisedValue': 518728320}, {'maxAge': 1, 'name': 'Mr. Andrew D. Baglino', 'age': 41, 'title': 'Sr. VP of Powertrain & Energy Engineering', 'yearBorn': 1981, 'fiscalYear': 2021, 'totalPay': 301154, 'exercisedValue': 20060192, 'unexercisedValue': 196973648}, {'maxAge': 1, 'name': 'Mr. Vaibhav  Taneja', 'age': 44, 'title': 'Corp. Controller & Chief Accounting Officer', 'yearBorn': 1978, 'exercisedValue': 0, 'unexercisedValue': 0}, {'maxAge': 1, 'name': 'Mr. Martin  Viecha', 'title': 'Sr. Director for Investor Relations', 'exercisedValue': 0, 'unexercisedValue': 0}, {'maxAge': 1, 'name': 'Mr. Alan  Prescott', 'age': 43, 'title': 'VP of Legal', 'yearBorn': 1979, 'exercisedValue': 0, 'unexercisedValue': 0}, {'maxAge': 1, 'name': 'Mr. Dave  Arnold', 'title': 'Sr. Director of Global Communications', 'exercisedValue': 0, 'unexercisedValue': 0}, {'maxAge': 1, 'name': 'Brian  Scelfo', 'title': 'Sr. Director of Corp. Devel.', 'exercisedValue': 0, 'unexercisedValue': 0}, {'maxAge': 1, 'name': 'Mr. Jeffrey B. Straubel', 'age': 46, 'title': 'Sr. Advisor', 'yearBorn': 1976, 'fiscalYear': 2018, 'exercisedValue': 0, 'unexercisedValue': 0}, {'maxAge': 1, 'name': 'Mr. Franz  von Holzhausen', 'title': 'Chief Designer', 'exercisedValue': 0, 'unexercisedValue': 0}], 'auditRisk': 9, 'boardRisk': 10, 'compensationRisk': 8, 'shareHolderRightsRisk': 9, 'overallRisk': 9, 'governanceEpochDate': 1680307200, 'compensationAsOfEpochDate': 1640908800, 'maxAge': 86400, 'priceHint': 2, 'previousClose': 186.79, 'open': 190.74, 'dayLow': 182.17, 'dayHigh': 191.58, 'regularMarketPreviousClose': 186.79, 'regularMarketOpen': 190.74, 'regularMarketDayLow': 182.17, 'regularMarketDayHigh': 191.58, 'payoutRatio': 0.0, 'beta': 2.070501, 'trailingPE': 50.708782, 'forwardPE': 33.527233, 'volume': 62356706, 'regularMarketVolume': 62356706, 'averageVolume': 169053911, 'averageVolume10days': 131366740, 'averageDailyVolume10Day': 131366740, 'bid': 183.6, 'ask': 183.41, 'bidSize': 1000, 'askSize': 1000, 'marketCap': 580169760768, 'fiftyTwoWeekLow': 101.81, 'fiftyTwoWeekHigh': 364.07333, 'priceToSalesTrailing12Months': 7.121968, 'fiftyDayAverage': 192.0172, 'twoHundredDayAverage': 214.61531, 'trailingAnnualDividendRate': 0.0, 'trailingAnnualDividendYield': 0.0, 'currency': 'USD', 'enterpriseValue': 570305871872, 'profitMargins': 0.15413, 'floatShares': 2704010527, 'sharesOutstanding': 3164100096, 'sharesShort': 87004969, 'sharesShortPriorMonth': 82116960, 'sharesShortPreviousMonthDate': 1676419200, 'dateShortInterest': 1678838400, 'sharesPercentSharesOut': 0.0275, 'heldPercentInsiders': 0.1308, 'heldPercentInstitutions': 0.44936, 'shortRatio': 0.52, 'shortPercentOfFloat': 0.0335, 'impliedSharesOutstanding': 0, 'bookValue': 14.129, 'priceToBook': 12.95624, 'lastFiscalYearEnd': 1672444800, 'nextFiscalYearEnd': 1703980800, 'mostRecentQuarter': 1672444800, 'earningsQuarterlyGrowth': 0.589, 'netIncomeToCommon': 12583000064, 'trailingEps': 3.61, 'forwardEps': 5.46, 'pegRatio': 4.06, 'lastSplitFactor': '3:1', 'lastSplitDate': 1661385600, 'enterpriseToRevenue': 7.001, 'enterpriseToEbitda': 32.703, '52WeekChange': -0.45189118, 'SandP52WeekChange': -0.07593459, 'exchange': 'NMS', 'quoteType': 'EQUITY', 'symbol': 'TSLA', 'underlyingSymbol': 'TSLA', 'shortName': 'Tesla, Inc.', 'longName': 'Tesla, Inc.', 'firstTradeDateEpochUtc': 1277818200, 'timeZoneFullName': 'America/New_York', 'timeZoneShortName': 'EDT', 'uuid': 'ec367bc4-f92c-397c-ac81-bf7b43cffaf7', 'messageBoardId': 'finmb_27444752', 'gmtOffSetMilliseconds': -14400000, 'currentPrice': 183.0587, 'targetHighPrice': 300.0, 'targetLowPrice': 24.33, 'targetMeanPrice': 199.16, 'targetMedianPrice': 210.0, 'recommendationMean': 2.4, 'recommendationKey': 'buy', 'numberOfAnalystOpinions': 35, 'totalCash': 22185000960, 'totalCashPerShare': 7.011, 'ebitda': 17439000576, 'totalDebt': 5747999744, 'quickRatio': 0.947, 'currentRatio': 1.532, 'totalRevenue': 81462001664, 'debtToEquity': 12.523, 'revenuePerShare': 26.026, 'returnOnAssets': 0.11847, 'returnOnEquity': 0.32490003, 'grossProfits': 20853000000, 'freeCashflow': 4208124928, 'operatingCashflow': 14723999744, 'earningsGrowth': 0.569, 'revenueGrowth': 0.372, 'grossMargins': 0.25597998, 'ebitdaMargins': 0.21406999, 'operatingMargins': 0.16808, 'financialCurrency': 'USD', 'trailingPegRatio': 1.6534}\n"
     ]
    }
   ],
   "source": [
    "tsla = yf.Ticker(\"TSLA\")\n",
    "print(tsla.info)"
   ]
  },
  {
   "cell_type": "markdown",
   "id": "13c78686-b22b-490c-acac-b66d49024e46",
   "metadata": {},
   "source": [
    "Using the ticker object and the function `history` extract stock information and save it in a dataframe named `tesla_data`. Set the `period` parameter to `max` so we get information for the maximum amount of time.\n"
   ]
  },
  {
   "cell_type": "code",
   "execution_count": 53,
   "id": "7f9763e4-9122-41ec-9443-a53343c59b60",
   "metadata": {},
   "outputs": [
    {
     "name": "stdout",
     "output_type": "stream",
     "text": [
      "                               Open      High       Low     Close     Volume  \\\n",
      "Date                                                                           \n",
      "2010-06-29 00:00:00-04:00  1.266667  1.666667  1.169333  1.592667  281494500   \n",
      "2010-06-30 00:00:00-04:00  1.719333  2.028000  1.553333  1.588667  257806500   \n",
      "2010-07-01 00:00:00-04:00  1.666667  1.728000  1.351333  1.464000  123282000   \n",
      "2010-07-02 00:00:00-04:00  1.533333  1.540000  1.247333  1.280000   77097000   \n",
      "2010-07-06 00:00:00-04:00  1.333333  1.333333  1.055333  1.074000  103003500   \n",
      "\n",
      "                           Dividends  Stock Splits  \n",
      "Date                                                \n",
      "2010-06-29 00:00:00-04:00        0.0           0.0  \n",
      "2010-06-30 00:00:00-04:00        0.0           0.0  \n",
      "2010-07-01 00:00:00-04:00        0.0           0.0  \n",
      "2010-07-02 00:00:00-04:00        0.0           0.0  \n",
      "2010-07-06 00:00:00-04:00        0.0           0.0  \n"
     ]
    }
   ],
   "source": [
    "tsla = yf.Ticker(\"TSLA\")\n",
    "tesla_data = tsla.history(period=\"max\")\n",
    "print(tesla_data.head())"
   ]
  },
  {
   "cell_type": "markdown",
   "id": "15032e00-90d7-455e-adcd-a1eeec54d6e0",
   "metadata": {},
   "source": [
    "**Reset the index** using the `reset_index(inplace=True)` function on the tesla_data DataFrame and display the first five rows of the `tesla_data` dataframe using the `head` function. Take a screenshot of the results and code from the beginning of Question 1 to the results below.\n"
   ]
  },
  {
   "cell_type": "code",
   "execution_count": 54,
   "id": "0123c47b-8378-4c7f-99be-80e571416ebd",
   "metadata": {},
   "outputs": [
    {
     "name": "stdout",
     "output_type": "stream",
     "text": [
      "                       Date      Open      High       Low     Close  \\\n",
      "0 2010-06-29 00:00:00-04:00  1.266667  1.666667  1.169333  1.592667   \n",
      "1 2010-06-30 00:00:00-04:00  1.719333  2.028000  1.553333  1.588667   \n",
      "2 2010-07-01 00:00:00-04:00  1.666667  1.728000  1.351333  1.464000   \n",
      "3 2010-07-02 00:00:00-04:00  1.533333  1.540000  1.247333  1.280000   \n",
      "4 2010-07-06 00:00:00-04:00  1.333333  1.333333  1.055333  1.074000   \n",
      "\n",
      "      Volume  Dividends  Stock Splits  \n",
      "0  281494500        0.0           0.0  \n",
      "1  257806500        0.0           0.0  \n",
      "2  123282000        0.0           0.0  \n",
      "3   77097000        0.0           0.0  \n",
      "4  103003500        0.0           0.0  \n"
     ]
    }
   ],
   "source": [
    "tsla = yf.Ticker(\"TSLA\")\n",
    "tesla_data = tsla.history(period=\"max\")\n",
    "tesla_data.reset_index(inplace=True)\n",
    "print(tesla_data.head())"
   ]
  },
  {
   "cell_type": "markdown",
   "id": "b94b5dab-a6f1-40eb-b836-0062988464db",
   "metadata": {},
   "source": [
    "## Question 2: Use Webscraping to Extract Tesla Revenue Data\n"
   ]
  },
  {
   "cell_type": "markdown",
   "id": "10c4befd-c47e-4592-a72e-7c0b5c678068",
   "metadata": {},
   "source": [
    "Use the `requests` library to download the webpage https://cf-courses-data.s3.us.cloud-object-storage.appdomain.cloud/IBMDeveloperSkillsNetwork-PY0220EN-SkillsNetwork/labs/project/revenue.htm Save the text of the response as a variable named `html_data`.\n"
   ]
  },
  {
   "cell_type": "code",
   "execution_count": 55,
   "id": "f65ee884-d9a1-424a-bcb2-bab7e3fbc53f",
   "metadata": {},
   "outputs": [],
   "source": [
    "url = 'https://cf-courses-data.s3.us.cloud-object-storage.appdomain.cloud/IBMDeveloperSkillsNetwork-PY0220EN-SkillsNetwork/labs/project/revenue.htm'\n",
    "response = requests.get(url)\n",
    "html_data = response.text"
   ]
  },
  {
   "cell_type": "markdown",
   "id": "e08fb22f-128a-4f99-8344-dd18d6279ab6",
   "metadata": {},
   "source": [
    "Parse the html data using `beautiful_soup`.\n"
   ]
  },
  {
   "cell_type": "code",
   "execution_count": 56,
   "id": "208b38b4-260c-4098-9b1e-9e88baed91c7",
   "metadata": {},
   "outputs": [],
   "source": [
    "from bs4 import BeautifulSoup\n",
    "soup = BeautifulSoup(html_data, 'html.parser')"
   ]
  },
  {
   "cell_type": "markdown",
   "id": "2beb668c-ce60-4121-96fc-0aa47465f941",
   "metadata": {},
   "source": [
    "Using `BeautifulSoup` or the `read_html` function extract the table with `Tesla Quarterly Revenue` and store it into a dataframe named `tesla_revenue`. The dataframe should have columns `Date` and `Revenue`.\n"
   ]
  },
  {
   "cell_type": "markdown",
   "id": "e6d73b96-e834-49d0-a325-4341ab772ad8",
   "metadata": {},
   "source": [
    "<details><summary>Click here if you need help locating the table</summary>\n",
    "\n",
    "```\n",
    "    \n",
    "Below is the code to isolate the table, you will now need to loop through the rows and columns like in the previous lab\n",
    "    \n",
    "soup.find_all(\"tbody\")[1]\n",
    "    \n",
    "If you want to use the read_html function the table is located at index 1\n",
    "\n",
    "\n",
    "```\n",
    "\n",
    "</details>\n"
   ]
  },
  {
   "cell_type": "code",
   "execution_count": 57,
   "id": "cd2a6e7c-8f63-48d6-b335-533af47912b3",
   "metadata": {},
   "outputs": [
    {
     "name": "stdout",
     "output_type": "stream",
     "text": [
      "                                       Tesla Annual Revenue(Millions of US $).1\n",
      "Tesla Annual Revenue(Millions of US $)                                         \n",
      "2021                                                                    $53,823\n",
      "2020                                                                    $31,536\n",
      "2019                                                                    $24,578\n",
      "2018                                                                    $21,461\n",
      "2017                                                                    $11,759\n",
      "2016                                                                     $7,000\n",
      "2015                                                                     $4,046\n",
      "2014                                                                     $3,198\n",
      "2013                                                                     $2,013\n",
      "2012                                                                       $413\n",
      "2011                                                                       $204\n",
      "2010                                                                       $117\n",
      "2009                                                                       $112\n"
     ]
    }
   ],
   "source": [
    "import pandas as pd\n",
    "import requests\n",
    "from bs4 import BeautifulSoup\n",
    "url = 'https://cf-courses-data.s3.us.cloud-object-storage.appdomain.cloud/IBMDeveloperSkillsNetwork-PY0220EN-SkillsNetwork/labs/project/revenue.htm'\n",
    "response = requests.get(url)\n",
    "html_data = response.text\n",
    "table_list = pd.read_html(html_data, index_col=0, header=0)\n",
    "tesla_revenue = table_list[0]\n",
    "print(tesla_revenue)\n"
   ]
  },
  {
   "cell_type": "markdown",
   "id": "621993b9-01da-48e3-a3e3-d65364683bae",
   "metadata": {},
   "source": [
    "Execute the following line to remove the comma and dollar sign from the `Revenue` column. \n"
   ]
  },
  {
   "cell_type": "code",
   "execution_count": 58,
   "id": "a96aff4d-1999-4f8b-a2e2-a0a9d15f900f",
   "metadata": {
    "tags": []
   },
   "outputs": [],
   "source": [
    "tesla_revenue['Tesla Annual Revenue(Millions of US $).1'] = tesla_revenue['Tesla Annual Revenue(Millions of US $).1'].astype(str).str.replace(',', '', regex=True).str.replace('$', '', regex=True).astype(float)"
   ]
  },
  {
   "cell_type": "markdown",
   "id": "92e23a47-3512-489a-b2da-7d596cee444d",
   "metadata": {},
   "source": [
    "Execute the following lines to remove an null or empty strings in the Revenue column.\n"
   ]
  },
  {
   "cell_type": "code",
   "execution_count": 59,
   "id": "3f14fcdc-450c-4fba-82da-a56ec62ac81d",
   "metadata": {},
   "outputs": [],
   "source": [
    "tesla_revenue = tesla_revenue.dropna()"
   ]
  },
  {
   "cell_type": "markdown",
   "id": "e64f6be4-8b4f-4077-b7dc-03ce2c2df456",
   "metadata": {},
   "source": [
    "Display the last 5 row of the `tesla_revenue` dataframe using the `tail` function. Take a screenshot of the results.\n"
   ]
  },
  {
   "cell_type": "code",
   "execution_count": 60,
   "id": "3676dbd9-97ce-4fb8-945c-ca96db5d28d5",
   "metadata": {},
   "outputs": [
    {
     "data": {
      "text/html": [
       "<div>\n",
       "<style scoped>\n",
       "    .dataframe tbody tr th:only-of-type {\n",
       "        vertical-align: middle;\n",
       "    }\n",
       "\n",
       "    .dataframe tbody tr th {\n",
       "        vertical-align: top;\n",
       "    }\n",
       "\n",
       "    .dataframe thead th {\n",
       "        text-align: right;\n",
       "    }\n",
       "</style>\n",
       "<table border=\"1\" class=\"dataframe\">\n",
       "  <thead>\n",
       "    <tr style=\"text-align: right;\">\n",
       "      <th></th>\n",
       "      <th>Tesla Annual Revenue(Millions of US $).1</th>\n",
       "    </tr>\n",
       "    <tr>\n",
       "      <th>Tesla Annual Revenue(Millions of US $)</th>\n",
       "      <th></th>\n",
       "    </tr>\n",
       "  </thead>\n",
       "  <tbody>\n",
       "    <tr>\n",
       "      <th>2013</th>\n",
       "      <td>2013.0</td>\n",
       "    </tr>\n",
       "    <tr>\n",
       "      <th>2012</th>\n",
       "      <td>413.0</td>\n",
       "    </tr>\n",
       "    <tr>\n",
       "      <th>2011</th>\n",
       "      <td>204.0</td>\n",
       "    </tr>\n",
       "    <tr>\n",
       "      <th>2010</th>\n",
       "      <td>117.0</td>\n",
       "    </tr>\n",
       "    <tr>\n",
       "      <th>2009</th>\n",
       "      <td>112.0</td>\n",
       "    </tr>\n",
       "  </tbody>\n",
       "</table>\n",
       "</div>"
      ],
      "text/plain": [
       "                                        Tesla Annual Revenue(Millions of US $).1\n",
       "Tesla Annual Revenue(Millions of US $)                                          \n",
       "2013                                                                      2013.0\n",
       "2012                                                                       413.0\n",
       "2011                                                                       204.0\n",
       "2010                                                                       117.0\n",
       "2009                                                                       112.0"
      ]
     },
     "execution_count": 60,
     "metadata": {},
     "output_type": "execute_result"
    }
   ],
   "source": [
    "tesla_revenue.tail(5)"
   ]
  },
  {
   "cell_type": "markdown",
   "id": "6ef322a4-e492-4e0e-a514-5122180f8654",
   "metadata": {},
   "source": [
    "## Question 3: Use yfinance to Extract Stock Data\n"
   ]
  },
  {
   "cell_type": "markdown",
   "id": "662635b8-6df0-4db5-a536-a82e6dff05dc",
   "metadata": {},
   "source": [
    "Using the `Ticker` function enter the ticker symbol of the stock we want to extract data on to create a ticker object. The stock is GameStop and its ticker symbol is `GME`.\n"
   ]
  },
  {
   "cell_type": "code",
   "execution_count": 61,
   "id": "f45e0206-d410-44f7-869f-f5e8d6985de0",
   "metadata": {
    "tags": []
   },
   "outputs": [
    {
     "name": "stdout",
     "output_type": "stream",
     "text": [
      "Requirement already satisfied: yfinance in /home/jupyterlab/conda/envs/python/lib/python3.7/site-packages (0.1.67)\n",
      "Requirement already satisfied: pandas>=0.24 in /home/jupyterlab/conda/envs/python/lib/python3.7/site-packages (from yfinance) (1.3.5)\n",
      "Requirement already satisfied: requests>=2.20 in /home/jupyterlab/conda/envs/python/lib/python3.7/site-packages (from yfinance) (2.28.1)\n",
      "Requirement already satisfied: lxml>=4.5.1 in /home/jupyterlab/conda/envs/python/lib/python3.7/site-packages (from yfinance) (4.9.1)\n",
      "Requirement already satisfied: multitasking>=0.0.7 in /home/jupyterlab/conda/envs/python/lib/python3.7/site-packages (from yfinance) (0.0.11)\n",
      "Requirement already satisfied: numpy>=1.15 in /home/jupyterlab/conda/envs/python/lib/python3.7/site-packages (from yfinance) (1.21.6)\n",
      "Requirement already satisfied: python-dateutil>=2.7.3 in /home/jupyterlab/conda/envs/python/lib/python3.7/site-packages (from pandas>=0.24->yfinance) (2.8.2)\n",
      "Requirement already satisfied: pytz>=2017.3 in /home/jupyterlab/conda/envs/python/lib/python3.7/site-packages (from pandas>=0.24->yfinance) (2022.6)\n",
      "Requirement already satisfied: charset-normalizer<3,>=2 in /home/jupyterlab/conda/envs/python/lib/python3.7/site-packages (from requests>=2.20->yfinance) (2.1.1)\n",
      "Requirement already satisfied: certifi>=2017.4.17 in /home/jupyterlab/conda/envs/python/lib/python3.7/site-packages (from requests>=2.20->yfinance) (2022.12.7)\n",
      "Requirement already satisfied: urllib3<1.27,>=1.21.1 in /home/jupyterlab/conda/envs/python/lib/python3.7/site-packages (from requests>=2.20->yfinance) (1.26.13)\n",
      "Requirement already satisfied: idna<4,>=2.5 in /home/jupyterlab/conda/envs/python/lib/python3.7/site-packages (from requests>=2.20->yfinance) (3.4)\n",
      "Requirement already satisfied: six>=1.5 in /home/jupyterlab/conda/envs/python/lib/python3.7/site-packages (from python-dateutil>=2.7.3->pandas>=0.24->yfinance) (1.16.0)\n"
     ]
    }
   ],
   "source": [
    "!pip install yfinance\n",
    "import yfinance as yf\n",
    "gme = yf.Ticker(\"GME\")"
   ]
  },
  {
   "cell_type": "markdown",
   "id": "2f9983cb-a323-4f8e-8ff6-e5af19e10286",
   "metadata": {},
   "source": [
    "Using the ticker object and the function `history` extract stock information and save it in a dataframe named `gme_data`. Set the `period` parameter to `max` so we get information for the maximum amount of time.\n"
   ]
  },
  {
   "cell_type": "code",
   "execution_count": 62,
   "id": "5da839c4-31ae-49aa-ace9-fdebade2eb3b",
   "metadata": {},
   "outputs": [],
   "source": [
    "gme_data = gme.history(period='max')"
   ]
  },
  {
   "cell_type": "markdown",
   "id": "1620f225-e2d6-4ba8-ac99-9e701fdcdea0",
   "metadata": {},
   "source": [
    "**Reset the index** using the `reset_index(inplace=True)` function on the gme_data DataFrame and display the first five rows of the `gme_data` dataframe using the `head` function. Take a screenshot of the results and code from the beginning of Question 3 to the results below.\n"
   ]
  },
  {
   "cell_type": "code",
   "execution_count": 63,
   "id": "e5dbf4a7-d32e-412b-b6c5-1b22fd5944ed",
   "metadata": {},
   "outputs": [
    {
     "name": "stdout",
     "output_type": "stream",
     "text": [
      "                       Date      Open      High       Low     Close    Volume  \\\n",
      "0 2002-02-13 00:00:00-05:00  1.620128  1.693350  1.603296  1.691666  76216000   \n",
      "1 2002-02-14 00:00:00-05:00  1.712708  1.716074  1.670626  1.683251  11021600   \n",
      "2 2002-02-15 00:00:00-05:00  1.683250  1.687458  1.658001  1.674834   8389600   \n",
      "3 2002-02-19 00:00:00-05:00  1.666418  1.666418  1.578047  1.607504   7410400   \n",
      "4 2002-02-20 00:00:00-05:00  1.615921  1.662210  1.603296  1.662210   6892800   \n",
      "\n",
      "   Dividends  Stock Splits  \n",
      "0        0.0           0.0  \n",
      "1        0.0           0.0  \n",
      "2        0.0           0.0  \n",
      "3        0.0           0.0  \n",
      "4        0.0           0.0  \n"
     ]
    }
   ],
   "source": [
    "gme_data.reset_index(inplace=True)\n",
    "print(gme_data.head())"
   ]
  },
  {
   "cell_type": "markdown",
   "id": "96df5f96-275e-47fb-9f39-509e09adbab6",
   "metadata": {},
   "source": [
    "## Question 4: Use Webscraping to Extract GME Revenue Data\n"
   ]
  },
  {
   "cell_type": "markdown",
   "id": "d40ea356-9393-4bf7-a67f-f95741863ad7",
   "metadata": {},
   "source": [
    "Use the `requests` library to download the webpage https://cf-courses-data.s3.us.cloud-object-storage.appdomain.cloud/IBMDeveloperSkillsNetwork-PY0220EN-SkillsNetwork/labs/project/stock.html. Save the text of the response as a variable named `html_data`.\n"
   ]
  },
  {
   "cell_type": "code",
   "execution_count": 64,
   "id": "35ddd411-d1c1-4a06-9f2e-b1a31566ef2c",
   "metadata": {},
   "outputs": [],
   "source": [
    "import requests\n",
    "url = \"https://cf-courses-data.s3.us.cloud-object-storage.appdomain.cloud/IBMDeveloperSkillsNetwork-PY0220EN-SkillsNetwork/labs/project/stock.html\"\n",
    "response = requests.get(url)\n",
    "html_data = response.text"
   ]
  },
  {
   "cell_type": "markdown",
   "id": "18de3ace-3412-47aa-ae7f-97d486debff9",
   "metadata": {},
   "source": [
    "Parse the html data using `beautiful_soup`.\n"
   ]
  },
  {
   "cell_type": "code",
   "execution_count": 65,
   "id": "c932e23d-cd21-4e85-afc8-7e3193134d74",
   "metadata": {},
   "outputs": [],
   "source": [
    "from bs4 import BeautifulSoup\n",
    "soup = BeautifulSoup(html_data, 'html.parser')"
   ]
  },
  {
   "cell_type": "markdown",
   "id": "2b8e8a88-b39e-4ca0-82e7-d833cf090e85",
   "metadata": {},
   "source": [
    "Using `BeautifulSoup` or the `read_html` function extract the table with `GameStop Quarterly Revenue` and store it into a dataframe named `gme_revenue`. The dataframe should have columns `Date` and `Revenue`. Make sure the comma and dollar sign is removed from the `Revenue` column using a method similar to what you did in Question 2.\n"
   ]
  },
  {
   "cell_type": "markdown",
   "id": "2c7f53d6-b641-4f2a-b7c0-09946f07300f",
   "metadata": {},
   "source": [
    "<details><summary>Click here if you need help locating the table</summary>\n",
    "\n",
    "```\n",
    "    \n",
    "Below is the code to isolate the table, you will now need to loop through the rows and columns like in the previous lab\n",
    "    \n",
    "soup.find_all(\"tbody\")[1]\n",
    "    \n",
    "If you want to use the read_html function the table is located at index 1\n",
    "\n",
    "\n",
    "```\n",
    "\n",
    "</details>\n"
   ]
  },
  {
   "cell_type": "code",
   "execution_count": 66,
   "id": "0435b643-007e-4713-bf52-f3bc2d3fc611",
   "metadata": {
    "tags": []
   },
   "outputs": [
    {
     "name": "stdout",
     "output_type": "stream",
     "text": [
      "   GameStop Quarterly Revenue(Millions of US $)  \\\n",
      "0                                    2020-04-30   \n",
      "1                                    2020-01-31   \n",
      "2                                    2019-10-31   \n",
      "3                                    2019-07-31   \n",
      "4                                    2019-04-30   \n",
      "..                                          ...   \n",
      "57                                   2006-01-31   \n",
      "58                                   2005-10-31   \n",
      "59                                   2005-07-31   \n",
      "60                                   2005-04-30   \n",
      "61                                   2005-01-31   \n",
      "\n",
      "   GameStop Quarterly Revenue(Millions of US $).1  \n",
      "0                                          $1,021  \n",
      "1                                          $2,194  \n",
      "2                                          $1,439  \n",
      "3                                          $1,286  \n",
      "4                                          $1,548  \n",
      "..                                            ...  \n",
      "57                                         $1,667  \n",
      "58                                           $534  \n",
      "59                                           $416  \n",
      "60                                           $475  \n",
      "61                                           $709  \n",
      "\n",
      "[62 rows x 2 columns]\n"
     ]
    },
    {
     "ename": "KeyError",
     "evalue": "\"None of [Index(['Date', 'Revenue'], dtype='object')] are in the [columns]\"",
     "output_type": "error",
     "traceback": [
      "\u001b[0;31m---------------------------------------------------------------------------\u001b[0m",
      "\u001b[0;31mKeyError\u001b[0m                                  Traceback (most recent call last)",
      "\u001b[0;32m/tmp/ipykernel_348/1323080790.py\u001b[0m in \u001b[0;36m<module>\u001b[0;34m\u001b[0m\n\u001b[1;32m     10\u001b[0m \u001b[0mgme_revenue\u001b[0m \u001b[0;34m=\u001b[0m \u001b[0mpd\u001b[0m\u001b[0;34m.\u001b[0m\u001b[0mread_html\u001b[0m\u001b[0;34m(\u001b[0m\u001b[0mstr\u001b[0m\u001b[0;34m(\u001b[0m\u001b[0mtable\u001b[0m\u001b[0;34m)\u001b[0m\u001b[0;34m)\u001b[0m\u001b[0;34m[\u001b[0m\u001b[0;36m0\u001b[0m\u001b[0;34m]\u001b[0m\u001b[0;34m\u001b[0m\u001b[0;34m\u001b[0m\u001b[0m\n\u001b[1;32m     11\u001b[0m \u001b[0mgme_revenue\u001b[0m\u001b[0;34m.\u001b[0m\u001b[0mcolumns\u001b[0m \u001b[0;34m=\u001b[0m \u001b[0mgme_revenue\u001b[0m\u001b[0;34m.\u001b[0m\u001b[0mcolumns\u001b[0m\u001b[0;34m.\u001b[0m\u001b[0mget_level_values\u001b[0m\u001b[0;34m(\u001b[0m\u001b[0;36m0\u001b[0m\u001b[0;34m)\u001b[0m\u001b[0;34m\u001b[0m\u001b[0;34m\u001b[0m\u001b[0m\n\u001b[0;32m---> 12\u001b[0;31m \u001b[0mgme_revenue\u001b[0m \u001b[0;34m=\u001b[0m \u001b[0mgme_revenue\u001b[0m\u001b[0;34m[\u001b[0m\u001b[0;34m[\u001b[0m\u001b[0;34m'Date'\u001b[0m\u001b[0;34m,\u001b[0m \u001b[0;34m'Revenue'\u001b[0m\u001b[0;34m]\u001b[0m\u001b[0;34m]\u001b[0m\u001b[0;34m\u001b[0m\u001b[0;34m\u001b[0m\u001b[0m\n\u001b[0m\u001b[1;32m     13\u001b[0m \u001b[0mgme_revenue\u001b[0m\u001b[0;34m[\u001b[0m\u001b[0;34m'Revenue'\u001b[0m\u001b[0;34m]\u001b[0m \u001b[0;34m=\u001b[0m \u001b[0mgme_revenue\u001b[0m\u001b[0;34m[\u001b[0m\u001b[0;34m'Revenue'\u001b[0m\u001b[0;34m]\u001b[0m\u001b[0;34m.\u001b[0m\u001b[0mstr\u001b[0m\u001b[0;34m.\u001b[0m\u001b[0mreplace\u001b[0m\u001b[0;34m(\u001b[0m\u001b[0;34m','\u001b[0m\u001b[0;34m,\u001b[0m \u001b[0;34m''\u001b[0m\u001b[0;34m)\u001b[0m\u001b[0;34m.\u001b[0m\u001b[0mstr\u001b[0m\u001b[0;34m.\u001b[0m\u001b[0mreplace\u001b[0m\u001b[0;34m(\u001b[0m\u001b[0;34m'$'\u001b[0m\u001b[0;34m,\u001b[0m \u001b[0;34m''\u001b[0m\u001b[0;34m)\u001b[0m\u001b[0;34m.\u001b[0m\u001b[0mastype\u001b[0m\u001b[0;34m(\u001b[0m\u001b[0mfloat\u001b[0m\u001b[0;34m)\u001b[0m\u001b[0;34m\u001b[0m\u001b[0;34m\u001b[0m\u001b[0m\n\u001b[1;32m     14\u001b[0m \u001b[0mprint\u001b[0m\u001b[0;34m(\u001b[0m\u001b[0mgme_revenue\u001b[0m\u001b[0;34m)\u001b[0m\u001b[0;34m\u001b[0m\u001b[0;34m\u001b[0m\u001b[0m\n",
      "\u001b[0;32m~/conda/envs/python/lib/python3.7/site-packages/pandas/core/frame.py\u001b[0m in \u001b[0;36m__getitem__\u001b[0;34m(self, key)\u001b[0m\n\u001b[1;32m   3462\u001b[0m             \u001b[0;32mif\u001b[0m \u001b[0mis_iterator\u001b[0m\u001b[0;34m(\u001b[0m\u001b[0mkey\u001b[0m\u001b[0;34m)\u001b[0m\u001b[0;34m:\u001b[0m\u001b[0;34m\u001b[0m\u001b[0;34m\u001b[0m\u001b[0m\n\u001b[1;32m   3463\u001b[0m                 \u001b[0mkey\u001b[0m \u001b[0;34m=\u001b[0m \u001b[0mlist\u001b[0m\u001b[0;34m(\u001b[0m\u001b[0mkey\u001b[0m\u001b[0;34m)\u001b[0m\u001b[0;34m\u001b[0m\u001b[0;34m\u001b[0m\u001b[0m\n\u001b[0;32m-> 3464\u001b[0;31m             \u001b[0mindexer\u001b[0m \u001b[0;34m=\u001b[0m \u001b[0mself\u001b[0m\u001b[0;34m.\u001b[0m\u001b[0mloc\u001b[0m\u001b[0;34m.\u001b[0m\u001b[0m_get_listlike_indexer\u001b[0m\u001b[0;34m(\u001b[0m\u001b[0mkey\u001b[0m\u001b[0;34m,\u001b[0m \u001b[0maxis\u001b[0m\u001b[0;34m=\u001b[0m\u001b[0;36m1\u001b[0m\u001b[0;34m)\u001b[0m\u001b[0;34m[\u001b[0m\u001b[0;36m1\u001b[0m\u001b[0;34m]\u001b[0m\u001b[0;34m\u001b[0m\u001b[0;34m\u001b[0m\u001b[0m\n\u001b[0m\u001b[1;32m   3465\u001b[0m \u001b[0;34m\u001b[0m\u001b[0m\n\u001b[1;32m   3466\u001b[0m         \u001b[0;31m# take() does not accept boolean indexers\u001b[0m\u001b[0;34m\u001b[0m\u001b[0;34m\u001b[0m\u001b[0;34m\u001b[0m\u001b[0m\n",
      "\u001b[0;32m~/conda/envs/python/lib/python3.7/site-packages/pandas/core/indexing.py\u001b[0m in \u001b[0;36m_get_listlike_indexer\u001b[0;34m(self, key, axis)\u001b[0m\n\u001b[1;32m   1312\u001b[0m             \u001b[0mkeyarr\u001b[0m\u001b[0;34m,\u001b[0m \u001b[0mindexer\u001b[0m\u001b[0;34m,\u001b[0m \u001b[0mnew_indexer\u001b[0m \u001b[0;34m=\u001b[0m \u001b[0max\u001b[0m\u001b[0;34m.\u001b[0m\u001b[0m_reindex_non_unique\u001b[0m\u001b[0;34m(\u001b[0m\u001b[0mkeyarr\u001b[0m\u001b[0;34m)\u001b[0m\u001b[0;34m\u001b[0m\u001b[0;34m\u001b[0m\u001b[0m\n\u001b[1;32m   1313\u001b[0m \u001b[0;34m\u001b[0m\u001b[0m\n\u001b[0;32m-> 1314\u001b[0;31m         \u001b[0mself\u001b[0m\u001b[0;34m.\u001b[0m\u001b[0m_validate_read_indexer\u001b[0m\u001b[0;34m(\u001b[0m\u001b[0mkeyarr\u001b[0m\u001b[0;34m,\u001b[0m \u001b[0mindexer\u001b[0m\u001b[0;34m,\u001b[0m \u001b[0maxis\u001b[0m\u001b[0;34m)\u001b[0m\u001b[0;34m\u001b[0m\u001b[0;34m\u001b[0m\u001b[0m\n\u001b[0m\u001b[1;32m   1315\u001b[0m \u001b[0;34m\u001b[0m\u001b[0m\n\u001b[1;32m   1316\u001b[0m         if needs_i8_conversion(ax.dtype) or isinstance(\n",
      "\u001b[0;32m~/conda/envs/python/lib/python3.7/site-packages/pandas/core/indexing.py\u001b[0m in \u001b[0;36m_validate_read_indexer\u001b[0;34m(self, key, indexer, axis)\u001b[0m\n\u001b[1;32m   1372\u001b[0m                 \u001b[0;32mif\u001b[0m \u001b[0muse_interval_msg\u001b[0m\u001b[0;34m:\u001b[0m\u001b[0;34m\u001b[0m\u001b[0;34m\u001b[0m\u001b[0m\n\u001b[1;32m   1373\u001b[0m                     \u001b[0mkey\u001b[0m \u001b[0;34m=\u001b[0m \u001b[0mlist\u001b[0m\u001b[0;34m(\u001b[0m\u001b[0mkey\u001b[0m\u001b[0;34m)\u001b[0m\u001b[0;34m\u001b[0m\u001b[0;34m\u001b[0m\u001b[0m\n\u001b[0;32m-> 1374\u001b[0;31m                 \u001b[0;32mraise\u001b[0m \u001b[0mKeyError\u001b[0m\u001b[0;34m(\u001b[0m\u001b[0;34mf\"None of [{key}] are in the [{axis_name}]\"\u001b[0m\u001b[0;34m)\u001b[0m\u001b[0;34m\u001b[0m\u001b[0;34m\u001b[0m\u001b[0m\n\u001b[0m\u001b[1;32m   1375\u001b[0m \u001b[0;34m\u001b[0m\u001b[0m\n\u001b[1;32m   1376\u001b[0m             \u001b[0mnot_found\u001b[0m \u001b[0;34m=\u001b[0m \u001b[0mlist\u001b[0m\u001b[0;34m(\u001b[0m\u001b[0mensure_index\u001b[0m\u001b[0;34m(\u001b[0m\u001b[0mkey\u001b[0m\u001b[0;34m)\u001b[0m\u001b[0;34m[\u001b[0m\u001b[0mmissing_mask\u001b[0m\u001b[0;34m.\u001b[0m\u001b[0mnonzero\u001b[0m\u001b[0;34m(\u001b[0m\u001b[0;34m)\u001b[0m\u001b[0;34m[\u001b[0m\u001b[0;36m0\u001b[0m\u001b[0;34m]\u001b[0m\u001b[0;34m]\u001b[0m\u001b[0;34m.\u001b[0m\u001b[0munique\u001b[0m\u001b[0;34m(\u001b[0m\u001b[0;34m)\u001b[0m\u001b[0;34m)\u001b[0m\u001b[0;34m\u001b[0m\u001b[0;34m\u001b[0m\u001b[0m\n",
      "\u001b[0;31mKeyError\u001b[0m: \"None of [Index(['Date', 'Revenue'], dtype='object')] are in the [columns]\""
     ]
    }
   ],
   "source": [
    "import pandas as pd\n",
    "import requests\n",
    "from bs4 import BeautifulSoup\n",
    "url ='https://cf-courses-data.s3.us.cloud-object-storage.appdomain.cloud/IBMDeveloperSkillsNetwork-PY0220EN-SkillsNetwork/labs/project/stock.html'\n",
    "response = requests.get(url)\n",
    "html_data = response.text\n",
    "table_list = pd.read_html(html_data, index_col=0, header=0)\n",
    "gme = table_list[0]\n",
    "print(gme_revenue)\n",
    "gme_revenue = pd.read_html(str(table))[0]\n",
    "gme_revenue.columns = gme_revenue.columns.get_level_values(0)\n",
    "gme_revenue = gme_revenue[['Date', 'Revenue']]\n",
    "gme_revenue['Revenue'] = gme_revenue['Revenue'].str.replace(',', '').str.replace('$', '').astype(float)\n",
    "print(gme_revenue)\n"
   ]
  },
  {
   "cell_type": "markdown",
   "id": "bf5f0a15-d2bc-48e0-9899-4020ed99dbd7",
   "metadata": {},
   "source": [
    "Display the last five rows of the `gme_revenue` dataframe using the `tail` function. Take a screenshot of the results.\n"
   ]
  },
  {
   "cell_type": "code",
   "execution_count": 67,
   "id": "fce8dbe5-c305-48f4-aecb-487126ac37b3",
   "metadata": {},
   "outputs": [
    {
     "data": {
      "text/html": [
       "<div>\n",
       "<style scoped>\n",
       "    .dataframe tbody tr th:only-of-type {\n",
       "        vertical-align: middle;\n",
       "    }\n",
       "\n",
       "    .dataframe tbody tr th {\n",
       "        vertical-align: top;\n",
       "    }\n",
       "\n",
       "    .dataframe thead th {\n",
       "        text-align: right;\n",
       "    }\n",
       "</style>\n",
       "<table border=\"1\" class=\"dataframe\">\n",
       "  <thead>\n",
       "    <tr style=\"text-align: right;\">\n",
       "      <th></th>\n",
       "      <th>GameStop Quarterly Revenue(Millions of US $)</th>\n",
       "      <th>GameStop Quarterly Revenue(Millions of US $).1</th>\n",
       "    </tr>\n",
       "  </thead>\n",
       "  <tbody>\n",
       "    <tr>\n",
       "      <th>57</th>\n",
       "      <td>2006-01-31</td>\n",
       "      <td>$1,667</td>\n",
       "    </tr>\n",
       "    <tr>\n",
       "      <th>58</th>\n",
       "      <td>2005-10-31</td>\n",
       "      <td>$534</td>\n",
       "    </tr>\n",
       "    <tr>\n",
       "      <th>59</th>\n",
       "      <td>2005-07-31</td>\n",
       "      <td>$416</td>\n",
       "    </tr>\n",
       "    <tr>\n",
       "      <th>60</th>\n",
       "      <td>2005-04-30</td>\n",
       "      <td>$475</td>\n",
       "    </tr>\n",
       "    <tr>\n",
       "      <th>61</th>\n",
       "      <td>2005-01-31</td>\n",
       "      <td>$709</td>\n",
       "    </tr>\n",
       "  </tbody>\n",
       "</table>\n",
       "</div>"
      ],
      "text/plain": [
       "   GameStop Quarterly Revenue(Millions of US $)  \\\n",
       "57                                   2006-01-31   \n",
       "58                                   2005-10-31   \n",
       "59                                   2005-07-31   \n",
       "60                                   2005-04-30   \n",
       "61                                   2005-01-31   \n",
       "\n",
       "   GameStop Quarterly Revenue(Millions of US $).1  \n",
       "57                                         $1,667  \n",
       "58                                           $534  \n",
       "59                                           $416  \n",
       "60                                           $475  \n",
       "61                                           $709  "
      ]
     },
     "execution_count": 67,
     "metadata": {},
     "output_type": "execute_result"
    }
   ],
   "source": [
    "gme_revenue.tail(5)"
   ]
  },
  {
   "cell_type": "markdown",
   "id": "9f78c13c-8932-446f-bb66-7f278b559d3e",
   "metadata": {},
   "source": [
    "## Question 5: Plot Tesla Stock Graph\n"
   ]
  },
  {
   "cell_type": "markdown",
   "id": "f149575a-faf8-41bc-8c35-7b17b7928d89",
   "metadata": {},
   "source": [
    "Use the `make_graph` function to graph the Tesla Stock Data, also provide a title for the graph. The structure to call the `make_graph` function is `make_graph(tesla_data, tesla_revenue, 'Tesla')`. Note the graph will only show data upto June 2021.\n"
   ]
  },
  {
   "cell_type": "code",
   "execution_count": 81,
   "id": "35bf663e-3531-43b2-9447-69500a4fb38b",
   "metadata": {
    "collapsed": true,
    "jupyter": {
     "outputs_hidden": true
    },
    "tags": []
   },
   "outputs": [
    {
     "ename": "SyntaxError",
     "evalue": "invalid syntax (3679023465.py, line 1)",
     "output_type": "error",
     "traceback": [
      "\u001b[0;36m  File \u001b[0;32m\"/tmp/ipykernel_348/3679023465.py\"\u001b[0;36m, line \u001b[0;32m1\u001b[0m\n\u001b[0;31m    make_graph(tesla_data, tesla_revenue.,rename(columns={\"Tesla Annual Revenue(Millions of US $)\": \"Date\", \"Tesla Annual Revenue(Millions of US $).1\":\"Revenue\"},'Stock':'Tesla'))\u001b[0m\n\u001b[0m                                         ^\u001b[0m\n\u001b[0;31mSyntaxError\u001b[0m\u001b[0;31m:\u001b[0m invalid syntax\n"
     ]
    }
   ],
   "source": [
    "make_graph(tesla_data, tesla_revenue.,rename(columns={\"Tesla Annual Revenue(Millions of US $)\": \"Date\", \"Tesla Annual Revenue(Millions of US $).1\":\"Revenue\"},'Stock':'Tesla'))"
   ]
  },
  {
   "cell_type": "markdown",
   "id": "c9e237cf-6914-43db-b5cf-c0aaafdbe3ec",
   "metadata": {},
   "source": [
    "## Question 6: Plot GameStop Stock Graph\n"
   ]
  },
  {
   "cell_type": "markdown",
   "id": "7a92ff53-3182-4a8d-b69b-7289e023014b",
   "metadata": {},
   "source": [
    "Use the `make_graph` function to graph the GameStop Stock Data, also provide a title for the graph. The structure to call the `make_graph` function is `make_graph(gme_data, gme_revenue, 'GameStop')`. Note the graph will only show data upto June 2021.\n"
   ]
  },
  {
   "cell_type": "code",
   "execution_count": null,
   "id": "d0c80aa1-5117-4ec7-9e0d-e860b7914c14",
   "metadata": {},
   "outputs": [],
   "source": [
    "make_graph(gme_data, gme_revenue., 'GameStop',rename(columns={\"GameStop Quarterly Revenue(Millions of US $)\": \"Date\", \"GameStop Quarterly Revenue(Millions of US $).1\":\"Revenue\"}), 'Tesla')"
   ]
  },
  {
   "cell_type": "markdown",
   "id": "2a3dfd40-cc64-45eb-b227-f5fac413302b",
   "metadata": {},
   "source": [
    "<h2>About the Authors:</h2> \n",
    "\n",
    "<a href=\"https://www.linkedin.com/in/joseph-s-50398b136/?utm_medium=Exinfluencer&utm_source=Exinfluencer&utm_content=000026UJ&utm_term=10006555&utm_id=NA-SkillsNetwork-Channel-SkillsNetworkCoursesIBMDeveloperSkillsNetworkPY0220ENSkillsNetwork900-2022-01-01\">Joseph Santarcangelo</a> has a PhD in Electrical Engineering, his research focused on using machine learning, signal processing, and computer vision to determine how videos impact human cognition. Joseph has been working for IBM since he completed his PhD.\n",
    "\n",
    "Azim Hirjani\n"
   ]
  },
  {
   "cell_type": "markdown",
   "id": "f0241bee-799c-4d33-8a95-0d5572066f14",
   "metadata": {},
   "source": [
    "## Change Log\n",
    "\n",
    "| Date (YYYY-MM-DD) | Version | Changed By    | Change Description        |\n",
    "| ----------------- | ------- | ------------- | ------------------------- |\n",
    "| 2022-02-28        | 1.2     | Lakshmi Holla | Changed the URL of GameStop |\n",
    "| 2020-11-10        | 1.1     | Malika Singla | Deleted the Optional part |\n",
    "| 2020-08-27        | 1.0     | Malika Singla | Added lab to GitLab       |\n",
    "\n",
    "<hr>\n",
    "\n",
    "## <h3 align=\"center\"> © IBM Corporation 2020. All rights reserved. <h3/>\n",
    "\n",
    "<p>\n"
   ]
  }
 ],
 "metadata": {
  "kernelspec": {
   "display_name": "Python",
   "language": "python",
   "name": "conda-env-python-py"
  },
  "language_info": {
   "codemirror_mode": {
    "name": "ipython",
    "version": 3
   },
   "file_extension": ".py",
   "mimetype": "text/x-python",
   "name": "python",
   "nbconvert_exporter": "python",
   "pygments_lexer": "ipython3",
   "version": "3.7.12"
  }
 },
 "nbformat": 4,
 "nbformat_minor": 5
}
